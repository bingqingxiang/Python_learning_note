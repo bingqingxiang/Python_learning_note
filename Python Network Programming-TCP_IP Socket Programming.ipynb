{
 "cells": [
  {
   "cell_type": "markdown",
   "metadata": {},
   "source": [
    "This is class note for Python Network Programming\n",
    "<br>[Youtube Link](https://www.youtube.com/playlist?list=PLhTjy8cBISErYuLZUvVOYsR1giva2payF)\n",
    "<br>Class content:\n",
    "<br>Basics of Networking\n",
    "    1. IP addresses( Internet Protocal )\n",
    "        a. Private VS. Public\n",
    "        b. Static VS. Dynamic\n",
    "    2. Ports   \n",
    "        a. [Web Link](https://www.webopedia.com/quick_ref/portnumbers.asp)\n",
    "    3. Sockets  \n",
    "        a. A socket is one endpoint of a two-way communication link between two programs running on the network.\n",
    "        b. Endpoint : A combination of an IP address and a port number.\n",
    "        c. Commands in Python:\n",
    "            1. socket.socket() -- creat a socket\n",
    "            2. s.bind(host,port)\n",
    "            3. s.send()\n",
    "            4. s.listen()\n",
    "            5. s.recv()\n",
    "            6. s.close()\n",
    "    4. Direct & Reverse Connections\n",
    "\n"
   ]
  },
  {
   "cell_type": "code",
   "execution_count": null,
   "metadata": {},
   "outputs": [],
   "source": []
  },
  {
   "cell_type": "code",
   "execution_count": null,
   "metadata": {},
   "outputs": [],
   "source": []
  },
  {
   "cell_type": "code",
   "execution_count": null,
   "metadata": {},
   "outputs": [],
   "source": []
  }
 ],
 "metadata": {
  "kernelspec": {
   "display_name": "Python 3",
   "language": "python",
   "name": "python3"
  },
  "language_info": {
   "codemirror_mode": {
    "name": "ipython",
    "version": 3
   },
   "file_extension": ".py",
   "mimetype": "text/x-python",
   "name": "python",
   "nbconvert_exporter": "python",
   "pygments_lexer": "ipython3",
   "version": "3.7.6"
  }
 },
 "nbformat": 4,
 "nbformat_minor": 4
}
